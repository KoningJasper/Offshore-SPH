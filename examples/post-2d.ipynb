{
 "cells": [
  {
   "cell_type": "code",
   "execution_count": 17,
   "metadata": {},
   "outputs": [],
   "source": [
    "import h5py\n",
    "import math\n",
    "import prettytable\n",
    "import numpy as np\n",
    "import matplotlib.pyplot as plt"
   ]
  },
  {
   "cell_type": "code",
   "execution_count": 11,
   "metadata": {},
   "outputs": [],
   "source": [
    "%matplotlib inline"
   ]
  },
  {
   "cell_type": "code",
   "execution_count": 12,
   "metadata": {},
   "outputs": [],
   "source": [
    "with h5py.File('dam-break-2d.hdf5', 'r') as h5f:\n",
    "    pA  = h5f['particleArray'][:]\n",
    "    x   = h5f['x'][:]\n",
    "    y   = h5f['y'][:]\n",
    "    p   = h5f['p'][:]\n",
    "    dta = h5f['dt_a'][:]\n",
    "    dtc = h5f['dt_c'][:]\n",
    "    dtf = h5f['dt_f'][:]\n",
    "    stl = h5f['settleTime'][()]"
   ]
  },
  {
   "cell_type": "code",
   "execution_count": 13,
   "metadata": {},
   "outputs": [
    {
     "data": {
      "image/png": "[encoded data removed]",
      "text/plain": [
       "<Figure size 432x288 with 1 Axes>"
      ]
     },
     "metadata": {},
     "output_type": "display_data"
    }
   ],
   "source": [
    "t = np.cumsum(dta) - stl\n",
    "dtf[0] = dtf[1]\n",
    "plt.plot(t, dta)\n",
    "plt.plot(t, dtc)\n",
    "plt.plot(t, dtf)\n",
    "plt.grid()\n",
    "plt.xlabel('Time [s]')\n",
    "plt.ylabel('Timestep [s]')\n",
    "plt.legend(['Actual', 'Courant', 'Force']);"
   ]
  },
  {
   "cell_type": "code",
   "execution_count": 15,
   "metadata": {},
   "outputs": [],
   "source": [
    "# Compute the target times\n",
    "t_s = np.array([0.71, 1.39, 2.10, 3.10])\n",
    "times = t_s * math.sqrt(25 / 9.81)\n",
    "\n",
    "# Indexes of fluid particles\n",
    "ind = pA['label'] == 0\n",
    "\n",
    "# Find the times in our time series\n",
    "t = -stl; t_i: int = 0; t_a = []\n",
    "h = []; z = []\n",
    "for i in range(len(x)):\n",
    "    if t >= times[t_i]:\n",
    "        t_a.append(t)\n",
    "        h.append(np.max(y[i, ind]))\n",
    "        z.append(np.max(x[i, ind]))\n",
    "        t_i += 1\n",
    "        \n",
    "        if t_i == 4:\n",
    "            break\n",
    "    t += dta[i]"
   ]
  },
  {
   "cell_type": "code",
   "execution_count": 20,
   "metadata": {
    "scrolled": false
   },
   "outputs": [
    {
     "name": "stdout",
     "output_type": "stream",
     "text": [
      "+----------+-----------------+---------+---------+---------+---------+---------+---------+\n",
      "| Time [s] | Time actual [s] | H (exp) | H (SPH) | H (JJK) | Z (exp) | Z (SPH) | Z (JJK) |\n",
      "+----------+-----------------+---------+---------+---------+---------+---------+---------+\n",
      "|   0.71   |       1.13      |   0.9   |   0.9   |   0.99  |   1.33  |   1.56  |   1.63  |\n",
      "|   1.39   |       2.22      |   0.76  |   0.75  |   0.89  |   2.25  |   2.5   |   2.69  |\n",
      "|   2.1    |       3.35      |   0.57  |   0.56  |   0.77  |   3.22  |   3.75  |   4.05  |\n",
      "|   3.1    |       4.95      |   0.32  |   0.37  |   0.58  |   4.8   |   5.0   |   6.12  |\n",
      "+----------+-----------------+---------+---------+---------+---------+---------+---------+\n"
     ]
    }
   ],
   "source": [
    "# Create a table\n",
    "T = prettytable.PrettyTable()\n",
    "T.add_column('Time [s]', t_s)\n",
    "T.add_column('Time actual [s]', np.round(times, 2))\n",
    "T.add_column('H (exp)', [0.90, 0.76, 0.57, 0.32])\n",
    "T.add_column('H (SPH)', [0.90, 0.75, 0.56, 0.37])\n",
    "T.add_column('H (JJK)', np.round(np.array(h) / 25, 2))\n",
    "T.add_column('Z (exp)', [1.33, 2.25, 3.22, 4.80])\n",
    "T.add_column('Z (SPH)', [1.56, 2.50, 3.75, 5.00])\n",
    "T.add_column('Z (JJK)', np.round(np.array(z) / 25, 2))\n",
    "print(T)"
   ]
  },
  {
   "cell_type": "code",
   "execution_count": null,
   "metadata": {},
   "outputs": [],
   "source": []
  }
 ],
 "metadata": {
  "kernelspec": {
   "display_name": "Python 3",
   "language": "python",
   "name": "python3"
  },
  "language_info": {
   "codemirror_mode": {
    "name": "ipython",
    "version": 3
   },
   "file_extension": ".py",
   "mimetype": "text/x-python",
   "name": "python",
   "nbconvert_exporter": "python",
   "pygments_lexer": "ipython3",
   "version": "3.6.5"
  }
 },
 "nbformat": 4,
 "nbformat_minor": 2
}
