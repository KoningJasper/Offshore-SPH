{
 "cells": [
  {
   "cell_type": "code",
   "execution_count": 2,
   "metadata": {},
   "outputs": [
    {
     "name": "stderr",
     "output_type": "stream",
     "text": [
      "C:\\Users\\Jasper\\AppData\\Local\\Programs\\Python\\Python37-32\\lib\\site-packages\\tqdm\\autonotebook\\__init__.py:14: TqdmExperimentalWarning: Using `tqdm.autonotebook.tqdm` in notebook mode. Use `tqdm.tqdm` instead to force console mode (e.g. in jupyter console)\n",
      "  \" (e.g. in jupyter console)\", TqdmExperimentalWarning)\n"
     ]
    }
   ],
   "source": [
    "# Add parent folder to path\n",
    "import sys\n",
    "sys.path.append(\"..\")\n",
    "\n",
    "# External libraries\n",
    "from tqdm.autonotebook import tqdm\n",
    "import scipy.spatial\n",
    "import numpy as np\n",
    "\n",
    "# Own\n",
    "from src.Kernels.Gaussian import Gaussian\n",
    "from src.Particle import Particle\n",
    "from src.Equations.WCSPH import WCSPH\n",
    "from src.Animation import Animation\n",
    "from src.Integrators.EulerIntegrater import EulerIntegrater\n",
    "\n",
    "# Data loading\n",
    "from pysph.solver.utils import load"
   ]
  },
  {
   "cell_type": "code",
   "execution_count": 2,
   "metadata": {},
   "outputs": [],
   "source": [
    "def create_particles():\n",
    "    # Load PySPH particles\n",
    "    data = load('dam_break_2d_0.npz')\n",
    "\n",
    "    # Convert boundaries to particles\n",
    "    particles = []\n",
    "    for t in ['boundary', 'fluid']:\n",
    "        for i in range(len(data['arrays'][t].x)):\n",
    "            x = data['arrays'][t].x[i]\n",
    "            y = data['arrays'][t].y[i]\n",
    "            rho = data['arrays'][t].rho[i]\n",
    "            particles.append(Particle(x=x, y=y, rho=rho, label=t))    \n",
    "\n",
    "    # Set constant mass\n",
    "    mass = data['arrays'][t].m[0]\n",
    "    return particles, mass"
   ]
  },
  {
   "cell_type": "code",
   "execution_count": 3,
   "metadata": {},
   "outputs": [],
   "source": [
    "def calc_smoothing_length(mass, rho_a: np.array) -> np.array:\n",
    "    return 1.0 * np.sqrt(mass / rho_a)"
   ]
  },
  {
   "cell_type": "code",
   "execution_count": 4,
   "metadata": {
    "scrolled": false
   },
   "outputs": [
    {
     "name": "stdout",
     "output_type": "stream",
     "text": [
      "Creating Particles.\n",
      "Created 4489 fluid-particles.\n",
      "Created 803 boundary-particles.\n",
      "For a total of 5292 particles.\n"
     ]
    },
    {
     "data": {
      "application/vnd.jupyter.widget-view+json": {
       "model_id": "b27d5352b31f45069c4bb09d066eb31a",
       "version_major": 2,
       "version_minor": 0
      },
      "text/plain": [
       "HBox(children=(IntProgress(value=0, description='Time-stepping', max=49, style=ProgressStyle(description_width…"
      ]
     },
     "metadata": {},
     "output_type": "display_data"
    },
    {
     "data": {
      "application/vnd.jupyter.widget-view+json": {
       "model_id": "",
       "version_major": 2,
       "version_minor": 0
      },
      "text/plain": [
       "HBox(children=(IntProgress(value=0, description='Evaluating equations', max=5292, style=ProgressStyle(descript…"
      ]
     },
     "metadata": {},
     "output_type": "display_data"
    },
    {
     "data": {
      "application/vnd.jupyter.widget-view+json": {
       "model_id": "",
       "version_major": 2,
       "version_minor": 0
      },
      "text/plain": [
       "HBox(children=(IntProgress(value=0, description='Integration', max=5292, style=ProgressStyle(description_width…"
      ]
     },
     "metadata": {},
     "output_type": "display_data"
    },
    {
     "data": {
      "application/vnd.jupyter.widget-view+json": {
       "model_id": "",
       "version_major": 2,
       "version_minor": 0
      },
      "text/plain": [
       "HBox(children=(IntProgress(value=0, description='Evaluating equations', max=5292, style=ProgressStyle(descript…"
      ]
     },
     "metadata": {},
     "output_type": "display_data"
    },
    {
     "data": {
      "application/vnd.jupyter.widget-view+json": {
       "model_id": "",
       "version_major": 2,
       "version_minor": 0
      },
      "text/plain": [
       "HBox(children=(IntProgress(value=0, description='Integration', max=5292, style=ProgressStyle(description_width…"
      ]
     },
     "metadata": {},
     "output_type": "display_data"
    },
    {
     "data": {
      "application/vnd.jupyter.widget-view+json": {
       "model_id": "",
       "version_major": 2,
       "version_minor": 0
      },
      "text/plain": [
       "HBox(children=(IntProgress(value=0, description='Evaluating equations', max=5292, style=ProgressStyle(descript…"
      ]
     },
     "metadata": {},
     "output_type": "display_data"
    },
    {
     "data": {
      "application/vnd.jupyter.widget-view+json": {
       "model_id": "",
       "version_major": 2,
       "version_minor": 0
      },
      "text/plain": [
       "HBox(children=(IntProgress(value=0, description='Integration', max=5292, style=ProgressStyle(description_width…"
      ]
     },
     "metadata": {},
     "output_type": "display_data"
    },
    {
     "data": {
      "application/vnd.jupyter.widget-view+json": {
       "model_id": "",
       "version_major": 2,
       "version_minor": 0
      },
      "text/plain": [
       "HBox(children=(IntProgress(value=0, description='Evaluating equations', max=5292, style=ProgressStyle(descript…"
      ]
     },
     "metadata": {},
     "output_type": "display_data"
    },
    {
     "data": {
      "application/vnd.jupyter.widget-view+json": {
       "model_id": "",
       "version_major": 2,
       "version_minor": 0
      },
      "text/plain": [
       "HBox(children=(IntProgress(value=0, description='Integration', max=5292, style=ProgressStyle(description_width…"
      ]
     },
     "metadata": {},
     "output_type": "display_data"
    },
    {
     "name": "stderr",
     "output_type": "stream",
     "text": [
      "C:\\Users\\Jasper\\AppData\\Local\\Programs\\Python\\Python37-32\\lib\\site-packages\\ipykernel_launcher.py:2: RuntimeWarning: invalid value encountered in sqrt\n",
      "  \n"
     ]
    },
    {
     "data": {
      "application/vnd.jupyter.widget-view+json": {
       "model_id": "f4b96a928b634a0ca3daa1f518536dc8",
       "version_major": 2,
       "version_minor": 0
      },
      "text/plain": [
       "HBox(children=(IntProgress(value=0, description='Evaluating equations', max=5292, style=ProgressStyle(descript…"
      ]
     },
     "metadata": {},
     "output_type": "display_data"
    },
    {
     "name": "stderr",
     "output_type": "stream",
     "text": [
      "C:\\Users\\Jasper\\AppData\\Local\\Programs\\Python\\Python37-32\\lib\\site-packages\\numpy\\core\\fromnumeric.py:83: RuntimeWarning: invalid value encountered in reduce\n",
      "  return ufunc.reduce(obj, axis, dtype, out, **passkwargs)\n"
     ]
    },
    {
     "name": "stdout",
     "output_type": "stream",
     "text": [
      "\n"
     ]
    },
    {
     "ename": "IndexError",
     "evalue": "arrays used as indices must be of integer (or boolean) type",
     "output_type": "error",
     "traceback": [
      "\u001b[1;31m---------------------------------------------------------------------------\u001b[0m",
      "\u001b[1;31mIndexError\u001b[0m                                Traceback (most recent call last)",
      "\u001b[1;32m<ipython-input-4-96bdc79a0aab>\u001b[0m in \u001b[0;36m<module>\u001b[1;34m\u001b[0m\n\u001b[0;32m     80\u001b[0m \u001b[1;33m\u001b[0m\u001b[0m\n\u001b[0;32m     81\u001b[0m         \u001b[1;31m# Calculate some general properties\u001b[0m\u001b[1;33m\u001b[0m\u001b[1;33m\u001b[0m\u001b[1;33m\u001b[0m\u001b[0m\n\u001b[1;32m---> 82\u001b[1;33m         \u001b[0mxij\u001b[0m\u001b[1;33m:\u001b[0m \u001b[0mnp\u001b[0m\u001b[1;33m.\u001b[0m\u001b[0marray\u001b[0m \u001b[1;33m=\u001b[0m \u001b[0mr\u001b[0m\u001b[1;33m[\u001b[0m\u001b[0mnear_arr\u001b[0m\u001b[1;33m]\u001b[0m \u001b[1;33m-\u001b[0m \u001b[0mp\u001b[0m\u001b[1;33m.\u001b[0m\u001b[0mr\u001b[0m\u001b[1;33m\u001b[0m\u001b[1;33m\u001b[0m\u001b[0m\n\u001b[0m\u001b[0;32m     83\u001b[0m         \u001b[0mrij\u001b[0m\u001b[1;33m:\u001b[0m \u001b[0mnp\u001b[0m\u001b[1;33m.\u001b[0m\u001b[0marray\u001b[0m \u001b[1;33m=\u001b[0m \u001b[0mdist\u001b[0m\u001b[1;33m[\u001b[0m\u001b[0mi\u001b[0m\u001b[1;33m,\u001b[0m \u001b[0mnear_arr\u001b[0m\u001b[1;33m]\u001b[0m\u001b[1;33m\u001b[0m\u001b[1;33m\u001b[0m\u001b[0m\n\u001b[0;32m     84\u001b[0m         \u001b[0mvij\u001b[0m\u001b[1;33m:\u001b[0m \u001b[0mnp\u001b[0m\u001b[1;33m.\u001b[0m\u001b[0marray\u001b[0m \u001b[1;33m=\u001b[0m \u001b[0mv\u001b[0m\u001b[1;33m[\u001b[0m\u001b[0mnear_arr\u001b[0m\u001b[1;33m,\u001b[0m \u001b[1;33m:\u001b[0m\u001b[1;33m,\u001b[0m \u001b[0mt_step\u001b[0m\u001b[1;33m]\u001b[0m \u001b[1;33m-\u001b[0m \u001b[0mp\u001b[0m\u001b[1;33m.\u001b[0m\u001b[0mv\u001b[0m\u001b[1;33m\u001b[0m\u001b[1;33m\u001b[0m\u001b[0m\n",
      "\u001b[1;31mIndexError\u001b[0m: arrays used as indices must be of integer (or boolean) type"
     ]
    }
   ],
   "source": [
    "# Runs a (2D) dambreak example\n",
    "# WCSPH method\n",
    "wcsph = WCSPH(height=2.0)\n",
    "\n",
    "# Generate some particles\n",
    "# N * N (water-particles).\n",
    "print('Creating Particles.')\n",
    "particles, mass = create_particles()\n",
    "fluid_particles = [p for p in particles if p.label == 'fluid']\n",
    "print(f'Created {len(fluid_particles)} fluid-particles.')\n",
    "print(f'Created {len(particles) - len(fluid_particles)} boundary-particles.')\n",
    "print(f'For a total of {len(particles)} particles.')\n",
    "\n",
    "# Get fluid indices\n",
    "fluid_ind = []\n",
    "for i in range(len(particles)):\n",
    "    if particles[i].label == 'fluid':\n",
    "        fluid_ind.append(i)\n",
    "fluid_ind = np.array(fluid_ind)\n",
    "\n",
    "# Solving properties\n",
    "kernel = Gaussian()\n",
    "integrater = EulerIntegrater()\n",
    "\n",
    "# Time-step properties\n",
    "t_max = 0.5 # [s]\n",
    "dt = 0.01   # [s]\n",
    "t = np.arange(0, t_max, dt)\n",
    "t_n = len(t)\n",
    "\n",
    "# water column height\n",
    "H = wcsph.H # [m]\n",
    "\n",
    "# H-parameter\n",
    "#hdx = 1.3 * np.sqrt(H * 2 * 2 / len(fluid_particles))\n",
    "hdx = 0.039\n",
    "h = np.ones(len(particles)) * hdx\n",
    "\n",
    "# Gravity\n",
    "gx = 0.\n",
    "gy = -9.81\n",
    "\n",
    "# Initialize the loop\n",
    "for p in particles:\n",
    "    wcsph.inital_condition(p)\n",
    "\n",
    "# Time-stepping\n",
    "x = np.zeros([len(particles), t_n])  # X-pos\n",
    "y = np.zeros([len(particles), t_n])  # Y-pos\n",
    "c = np.zeros([len(particles), t_n])  # Pressure (p)\n",
    "u = np.zeros([len(particles), t_n])  # Density (rho)\n",
    "v = np.zeros([len(particles), 2, t_n])  # Velocity both x and y\n",
    "q = np.zeros([len(particles), 2, t_n]) # Acceleration both x and y\n",
    "\n",
    "# Initialization\n",
    "x[:, 0] = [p.r[0] for p in particles]\n",
    "y[:, 0] = [p.r[1] for p in particles]\n",
    "c[:, 0] = [p.p for p in particles]\n",
    "u[:, 0] = [p.rho for p in particles]\n",
    "\n",
    "# Integration loop\n",
    "# TODO: Move to separate (generic) function\n",
    "i: int = 0\n",
    "for t_step in tqdm(range(t_n - 1), desc='Time-stepping'):\n",
    "    # Distance and neighbourhood\n",
    "    r = np.array([p.r for p in particles])\n",
    "    dist = scipy.spatial.distance.cdist(r, r, 'euclidean')\n",
    "    hood = scipy.spatial.cKDTree(r)\n",
    "\n",
    "    # Force/Acceleration evaluation loop\n",
    "    i: int = 0\n",
    "    for p in tqdm(particles, desc='Evaluating equations', leave=False):\n",
    "        # Set acceleration etc to zero.\n",
    "        wcsph.loop_initialize(p)\n",
    "\n",
    "        # Query neighbours\n",
    "        r_dist: float = np.min(3.01 * h)  # Goes to zero when q > 3\n",
    "        near_ind: list = hood.query_ball_point(p.r, r_dist)\n",
    "        near_arr: np.array = np.array(near_ind)\n",
    "\n",
    "        # Calculate some general properties\n",
    "        xij: np.array = r[near_arr] - p.r\n",
    "        rij: np.array = dist[i, near_arr]\n",
    "        vij: np.array = v[near_arr, :, t_step] - p.v\n",
    "        dwij: np.array = kernel.gradient(xij, rij, h[near_arr])\n",
    "\n",
    "        # Evaluate the equations\n",
    "        wcsph.TaitEOS(p)\n",
    "        wcsph.Continuity(mass, p, xij, rij, dwij, vij)\n",
    "        \n",
    "        if p.label == 'fluid':\n",
    "            wcsph.Momentum(mass, p, c[near_arr, t_step],\n",
    "                           u[near_arr, t_step], dwij)\n",
    "            wcsph.Gravity(p, gx, gy)\n",
    "        i += 1\n",
    "\n",
    "    # Integration loop\n",
    "    i: int = 0\n",
    "    for p in tqdm(particles, desc='Integration', leave=False):\n",
    "        # Integrate the thingies\n",
    "        integrater.integrate(dt, p)\n",
    "\n",
    "        # Put into giant-matrix\n",
    "        x[i, t_step + 1] = p.r[0]\n",
    "        y[i, t_step + 1] = p.r[1]\n",
    "        c[i, t_step + 1] = p.p\n",
    "        u[i, t_step + 1] = p.rho\n",
    "        v[i, :, t_step + 1] = p.v\n",
    "        q[i, :, t_step + 1] = p.a\n",
    "\n",
    "        i += 1\n",
    "        \n",
    "    # Calculate the new smoothing length\n",
    "    h[fluid_ind] = calc_smoothing_length(mass, u[fluid_ind, t_step + 1])\n",
    "    \n",
    "print('Integration complete.')\n",
    "# END Integration loop\n",
    "\n",
    "# Export\n",
    "print('Starting export.')\n",
    "fluid_ind = []\n",
    "solid_ind = []\n",
    "i: int = 0\n",
    "for p in particles:\n",
    "    if p.label == 'fluid':\n",
    "        fluid_ind.append(i)\n",
    "    else:\n",
    "        solid_ind.append(i)\n",
    "    i += 1\n",
    "Animation(x=x[fluid_ind], y=y[fluid_ind], r=3.0, c=c[fluid_ind], fps=20, xlim=[-1, 6], ylim=[-1, 6], xsolid=x[solid_ind], ysolid=y[solid_ind]).export(f'pysph.mp4')\n",
    "print('Export complete.')"
   ]
  },
  {
   "cell_type": "code",
   "execution_count": 18,
   "metadata": {},
   "outputs": [
    {
     "data": {
      "text/plain": [
       "nan"
      ]
     },
     "execution_count": 18,
     "metadata": {},
     "output_type": "execute_result"
    }
   ],
   "source": [
    "h[5289]"
   ]
  },
  {
   "cell_type": "code",
   "execution_count": 20,
   "metadata": {},
   "outputs": [
    {
     "data": {
      "text/plain": [
       "array([1000.16242084, 1000.16242084,  984.48076514,  927.66556999,\n",
       "       -237.94082336,    0.        ,    0.        ,    0.        ,\n",
       "          0.        ,    0.        ,    0.        ,    0.        ,\n",
       "          0.        ,    0.        ,    0.        ,    0.        ,\n",
       "          0.        ,    0.        ,    0.        ,    0.        ,\n",
       "          0.        ,    0.        ,    0.        ,    0.        ,\n",
       "          0.        ,    0.        ,    0.        ,    0.        ,\n",
       "          0.        ,    0.        ,    0.        ,    0.        ,\n",
       "          0.        ,    0.        ,    0.        ,    0.        ,\n",
       "          0.        ,    0.        ,    0.        ,    0.        ,\n",
       "          0.        ,    0.        ,    0.        ,    0.        ,\n",
       "          0.        ,    0.        ,    0.        ,    0.        ,\n",
       "          0.        ,    0.        ])"
      ]
     },
     "execution_count": 20,
     "metadata": {},
     "output_type": "execute_result"
    }
   ],
   "source": [
    "u[5289, :]"
   ]
  },
  {
   "cell_type": "code",
   "execution_count": 16,
   "metadata": {},
   "outputs": [
    {
     "data": {
      "text/plain": [
       "5288"
      ]
     },
     "execution_count": 16,
     "metadata": {},
     "output_type": "execute_result"
    }
   ],
   "source": [
    "5291 - 3"
   ]
  },
  {
   "cell_type": "code",
   "execution_count": 21,
   "metadata": {},
   "outputs": [
    {
     "data": {
      "text/plain": [
       "nan"
      ]
     },
     "execution_count": 21,
     "metadata": {},
     "output_type": "execute_result"
    }
   ],
   "source": [
    "r_dist"
   ]
  },
  {
   "cell_type": "code",
   "execution_count": 32,
   "metadata": {},
   "outputs": [
    {
     "data": {
      "text/plain": [
       "array([0., 0., 0., ..., 0., 0., 0.])"
      ]
     },
     "execution_count": 32,
     "metadata": {},
     "output_type": "execute_result"
    }
   ],
   "source": [
    "data = load('dam_break_2d_2000.npz')\n",
    "data['arrays']['fluid'].arho"
   ]
  },
  {
   "cell_type": "code",
   "execution_count": 17,
   "metadata": {},
   "outputs": [
    {
     "data": {
      "text/plain": [
       "array([-5.98715304e-01, -8.11459070e-01, -8.53415890e-01, ...,\n",
       "       -1.20053301e-10, -8.27640179e-11, -4.46789272e-11])"
      ]
     },
     "execution_count": 17,
     "metadata": {},
     "output_type": "execute_result"
    }
   ],
   "source": [
    "dat1 = load('dam_break_2d_0.npz')\n",
    "dat2 = load('dam_break_2d_100.npz')\n",
    "delta = dat1['arrays']['fluid'].rho - dat2['arrays']['fluid'].rho\n",
    "delta"
   ]
  },
  {
   "cell_type": "code",
   "execution_count": 18,
   "metadata": {},
   "outputs": [
    {
     "data": {
      "text/plain": [
       "array([-6.01352030e+01, -8.15032713e+01, -8.57174309e+01, ...,\n",
       "       -1.20582012e-08, -8.31285082e-09, -4.48756920e-09])"
      ]
     },
     "execution_count": 18,
     "metadata": {},
     "output_type": "execute_result"
    }
   ],
   "source": [
    "delta / dat2['solver_data']['t']"
   ]
  },
  {
   "cell_type": "code",
   "execution_count": 21,
   "metadata": {},
   "outputs": [
    {
     "data": {
      "text/plain": [
       "0.009956153383402078"
      ]
     },
     "execution_count": 21,
     "metadata": {},
     "output_type": "execute_result"
    }
   ],
   "source": [
    "dat2['solver_data']['t']"
   ]
  },
  {
   "cell_type": "code",
   "execution_count": null,
   "metadata": {},
   "outputs": [],
   "source": []
  }
 ],
 "metadata": {
  "kernelspec": {
   "display_name": "Python 3",
   "language": "python",
   "name": "python3"
  },
  "language_info": {
   "codemirror_mode": {
    "name": "ipython",
    "version": 3
   },
   "file_extension": ".py",
   "mimetype": "text/x-python",
   "name": "python",
   "nbconvert_exporter": "python",
   "pygments_lexer": "ipython3",
   "version": "3.7.1"
  }
 },
 "nbformat": 4,
 "nbformat_minor": 2
}
